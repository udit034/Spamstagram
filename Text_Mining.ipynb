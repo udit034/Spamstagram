{
 "cells": [
  {
   "cell_type": "markdown",
   "metadata": {},
   "source": [
    "# Finding a DataSet\n",
    "* It is well known that scraping Instagram information is not allowed and Instagram API would give us a limited dataset of public information\n",
    "\n",
    "\n",
    "* Hence we find a suitable text dataset which has already been labelled as spam or not spam from Kaggle https://www.kaggle.com/team-ai/spam-text-message-classification. This process ensures that the data is reasonably clean and labels are reliable\n",
    "\n",
    "\n",
    "* We create an account, download the dataset and extract it in the local directory"
   ]
  },
  {
   "cell_type": "code",
   "execution_count": null,
   "metadata": {},
   "outputs": [],
   "source": [
    "!wget https://www.kaggle.com/team-ai/spam-text-message-classification/downloads/spam-text-message-classification.zip/1\n",
    "!unzip spam-text-message-classification.zip ."
   ]
  },
  {
   "cell_type": "markdown",
   "metadata": {},
   "source": [
    "# Import Dependencies\n",
    "We will import standard libraries needed for \n",
    "* E - Extraction\n",
    "* T - Transform ( Numpy, Pandas )\n",
    "* L - Load \n",
    "\n",
    "###### Additionally we also import the machine learning libraries necessary for data cleaning, natural language processing and machine learning"
   ]
  },
  {
   "cell_type": "code",
   "execution_count": 22,
   "metadata": {},
   "outputs": [],
   "source": [
    "import numpy as np \n",
    "import pandas as pd \n",
    "import matplotlib.pyplot as plt\n",
    "from sklearn.feature_extraction.text import CountVectorizer, TfidfVectorizer\n",
    "from sklearn.model_selection import train_test_split\n",
    "from sklearn.ensemble import RandomForestClassifier\n",
    "from sklearn.metrics import accuracy_score\n",
    "from sklearn.preprocessing import LabelEncoder\n",
    "import re\n",
    "import nltk\n",
    "import string\n",
    "import os\n",
    "from sklearn.feature_extraction.text import TfidfVectorizer\n",
    "from nltk.stem.porter import PorterStemmer\n",
    "from wordcloud import WordCloud"
   ]
  },
  {
   "cell_type": "markdown",
   "metadata": {},
   "source": [
    "# Reading the dataset\n",
    "Let's read the dataset and see how many records we have and how do they look like"
   ]
  },
  {
   "cell_type": "code",
   "execution_count": 44,
   "metadata": {},
   "outputs": [
    {
     "name": "stdout",
     "output_type": "stream",
     "text": [
      "5572\n"
     ]
    },
    {
     "data": {
      "text/html": [
       "<div>\n",
       "<style>\n",
       "    .dataframe thead tr:only-child th {\n",
       "        text-align: right;\n",
       "    }\n",
       "\n",
       "    .dataframe thead th {\n",
       "        text-align: left;\n",
       "    }\n",
       "\n",
       "    .dataframe tbody tr th {\n",
       "        vertical-align: top;\n",
       "    }\n",
       "</style>\n",
       "<table border=\"1\" class=\"dataframe\">\n",
       "  <thead>\n",
       "    <tr style=\"text-align: right;\">\n",
       "      <th></th>\n",
       "      <th>Category</th>\n",
       "      <th>Message</th>\n",
       "    </tr>\n",
       "  </thead>\n",
       "  <tbody>\n",
       "    <tr>\n",
       "      <th>0</th>\n",
       "      <td>ham</td>\n",
       "      <td>Go until jurong point, crazy.. Available only ...</td>\n",
       "    </tr>\n",
       "    <tr>\n",
       "      <th>1</th>\n",
       "      <td>ham</td>\n",
       "      <td>Ok lar... Joking wif u oni...</td>\n",
       "    </tr>\n",
       "    <tr>\n",
       "      <th>2</th>\n",
       "      <td>spam</td>\n",
       "      <td>Free entry in 2 a wkly comp to win FA Cup fina...</td>\n",
       "    </tr>\n",
       "    <tr>\n",
       "      <th>3</th>\n",
       "      <td>ham</td>\n",
       "      <td>U dun say so early hor... U c already then say...</td>\n",
       "    </tr>\n",
       "    <tr>\n",
       "      <th>4</th>\n",
       "      <td>ham</td>\n",
       "      <td>Nah I don't think he goes to usf, he lives aro...</td>\n",
       "    </tr>\n",
       "  </tbody>\n",
       "</table>\n",
       "</div>"
      ],
      "text/plain": [
       "  Category                                            Message\n",
       "0      ham  Go until jurong point, crazy.. Available only ...\n",
       "1      ham                      Ok lar... Joking wif u oni...\n",
       "2     spam  Free entry in 2 a wkly comp to win FA Cup fina...\n",
       "3      ham  U dun say so early hor... U c already then say...\n",
       "4      ham  Nah I don't think he goes to usf, he lives aro..."
      ]
     },
     "execution_count": 44,
     "metadata": {},
     "output_type": "execute_result"
    }
   ],
   "source": [
    "data = pd.read_csv(\"SPAM text message 20170820 - Data.csv\") \n",
    "print( len(data) )\n",
    "data.head()"
   ]
  },
  {
   "cell_type": "markdown",
   "metadata": {},
   "source": [
    "# What does this mean ?\n",
    "* In our case the Message represents information corresponding to a certain user that we imagine to have been obtained from their bios, comments or captions\n",
    "* The label 'Category' means whether this particular record of information is 'Spam' or 'Not Spam'\n",
    "* Let us make the Category description to be our label output ( y ) in the form of 0 or 1"
   ]
  },
  {
   "cell_type": "code",
   "execution_count": 45,
   "metadata": {},
   "outputs": [
    {
     "data": {
      "text/plain": [
       "array([[<matplotlib.axes._subplots.AxesSubplot object at 0x000001D613234BA8>]],\n",
       "      dtype=object)"
      ]
     },
     "execution_count": 45,
     "metadata": {},
     "output_type": "execute_result"
    },
    {
     "data": {
      "image/png": "[encoded data removed]",
      "text/plain": [
       "<matplotlib.figure.Figure at 0x1d612efb8d0>"
      ]
     },
     "metadata": {},
     "output_type": "display_data"
    }
   ],
   "source": [
    "encoder = LabelEncoder()\n",
    "unique_values_in_feature = np.unique( data[ 'Category' ].values )\n",
    "encoder = encoder.fit( unique_values_in_feature )\n",
    "data[ 'Category' ] = encoder.transform( data[ 'Category' ] )\n",
    "data = data.rename(index=str, columns={\"Category\": \"Spam Value\", \"Message\": \"Instagram Dummy Text\"})\n",
    "data.head()\n",
    "data[['Spam Value']].hist()"
   ]
  },
  {
   "cell_type": "markdown",
   "metadata": {},
   "source": [
    "# Data Cleaning\n",
    "###### We ensure there are no duplicate records\n",
    "###### We ensure there are no NaN or null values\n",
    "We find that we lose about 400 records in this process"
   ]
  },
  {
   "cell_type": "code",
   "execution_count": 46,
   "metadata": {},
   "outputs": [
    {
     "name": "stdout",
     "output_type": "stream",
     "text": [
      "5157\n"
     ]
    },
    {
     "data": {
      "text/html": [
       "<div>\n",
       "<style>\n",
       "    .dataframe thead tr:only-child th {\n",
       "        text-align: right;\n",
       "    }\n",
       "\n",
       "    .dataframe thead th {\n",
       "        text-align: left;\n",
       "    }\n",
       "\n",
       "    .dataframe tbody tr th {\n",
       "        vertical-align: top;\n",
       "    }\n",
       "</style>\n",
       "<table border=\"1\" class=\"dataframe\">\n",
       "  <thead>\n",
       "    <tr style=\"text-align: right;\">\n",
       "      <th></th>\n",
       "      <th>Spam Value</th>\n",
       "      <th>Instagram Dummy Text</th>\n",
       "    </tr>\n",
       "  </thead>\n",
       "  <tbody>\n",
       "    <tr>\n",
       "      <th>0</th>\n",
       "      <td>0</td>\n",
       "      <td>Go until jurong point, crazy.. Available only ...</td>\n",
       "    </tr>\n",
       "    <tr>\n",
       "      <th>1</th>\n",
       "      <td>0</td>\n",
       "      <td>Ok lar... Joking wif u oni...</td>\n",
       "    </tr>\n",
       "    <tr>\n",
       "      <th>2</th>\n",
       "      <td>1</td>\n",
       "      <td>Free entry in 2 a wkly comp to win FA Cup fina...</td>\n",
       "    </tr>\n",
       "    <tr>\n",
       "      <th>3</th>\n",
       "      <td>0</td>\n",
       "      <td>U dun say so early hor... U c already then say...</td>\n",
       "    </tr>\n",
       "    <tr>\n",
       "      <th>4</th>\n",
       "      <td>0</td>\n",
       "      <td>Nah I don't think he goes to usf, he lives aro...</td>\n",
       "    </tr>\n",
       "  </tbody>\n",
       "</table>\n",
       "</div>"
      ],
      "text/plain": [
       "   Spam Value                               Instagram Dummy Text\n",
       "0           0  Go until jurong point, crazy.. Available only ...\n",
       "1           0                      Ok lar... Joking wif u oni...\n",
       "2           1  Free entry in 2 a wkly comp to win FA Cup fina...\n",
       "3           0  U dun say so early hor... U c already then say...\n",
       "4           0  Nah I don't think he goes to usf, he lives aro..."
      ]
     },
     "execution_count": 46,
     "metadata": {},
     "output_type": "execute_result"
    }
   ],
   "source": [
    "data = data.drop_duplicates()\n",
    "data = data.dropna()\n",
    "print( len( data ) )\n",
    "data.head()"
   ]
  },
  {
   "cell_type": "markdown",
   "metadata": {},
   "source": [
    "# Text Mining\n",
    "## Handle the Instagram Dummy Text\n",
    "### Here we have an opportunity to use a lot of natural language processing techniques\n",
    "\n",
    "#### Stop Words\n",
    "* We get rid of stop words in the English lanugage\n",
    "\n",
    "#### n_grams\n",
    "* We consider both unigrams and bigrams\n",
    "\n",
    "#### Lowercase\n",
    "Convert each word to lowercase\n",
    "\n",
    "## Stemming the Text\n",
    "Use the NLTK word Stemmer\n",
    "* First generate tokens from the text\n",
    "* Then use NLTK to stem the tokens and return them to the TFIDF vectorized"
   ]
  },
  {
   "cell_type": "code",
   "execution_count": 47,
   "metadata": {
    "collapsed": true
   },
   "outputs": [],
   "source": [
    "stemmer = PorterStemmer()\n",
    "def stem_tokens(tokens, stemmer):\n",
    "    stemmed = []\n",
    "    for item in tokens:\n",
    "        stemmed.append(stemmer.stem(item))\n",
    "    return stemmed\n",
    "\n",
    "def tokenize(text):\n",
    "    tokens = nltk.word_tokenize(text)\n",
    "    stems = stem_tokens(tokens, stemmer)\n",
    "    return stems"
   ]
  },
  {
   "cell_type": "markdown",
   "metadata": {},
   "source": [
    "## TF-IDF\n",
    "* Input to the vectorizer will be the descriptions of each record. Prepare the input to the classifier in cell below\n",
    "* After initializing the vectorizer we fit onto the record descriptions and convert to TF-IDF representations"
   ]
  },
  {
   "cell_type": "code",
   "execution_count": 48,
   "metadata": {},
   "outputs": [
    {
     "name": "stdout",
     "output_type": "stream",
     "text": [
      "[nltk_data] Downloading package punkt to\n",
      "[nltk_data]     C:\\Users\\uditm\\AppData\\Roaming\\nltk_data...\n",
      "[nltk_data]   Package punkt is already up-to-date!\n",
      "<class 'scipy.sparse.csr.csr_matrix'>\n",
      "<bound method _cs_matrix.toarray of <5157x8440 sparse matrix of type '<class 'numpy.float64'>'\n",
      "\twith 39457 stored elements in Compressed Sparse Row format>>\n"
     ]
    }
   ],
   "source": [
    "nltk.download('punkt')\n",
    "TfidfVec = TfidfVectorizer(  stop_words='english')\n",
    "X = TfidfVec.fit( data['Instagram Dummy Text'] ).transform( data['Instagram Dummy Text'] )\n",
    "print( type(X) )\n",
    "print( X.toarray)"
   ]
  },
  {
   "cell_type": "markdown",
   "metadata": {},
   "source": [
    "# Let's see what some of the most important words in the dataset were\n",
    "Reference https://stackoverflow.com/questions/34232190/scikit-learn-tfidfvectorizer-how-to-get-top-n-terms-with-highest-tf-idf-score\n",
    "### We indeed get some interesting results and it's difficult to interpret the word cloud at this point in time"
   ]
  },
  {
   "cell_type": "code",
   "execution_count": 49,
   "metadata": {},
   "outputs": [],
   "source": [
    "feature_array = np.array(TfidfVec.get_feature_names())\n",
    "tfidf_sorting = np.argsort(X.toarray()).flatten()[::-1]\n",
    "top_n = feature_array[tfidf_sorting][:100]"
   ]
  },
  {
   "cell_type": "code",
   "execution_count": 50,
   "metadata": {},
   "outputs": [
    {
     "data": {
      "image/png": "[encoded data removed]",
      "text/plain": [
       "<matplotlib.figure.Figure at 0x1d610495940>"
      ]
     },
     "metadata": {},
     "output_type": "display_data"
    },
    {
     "name": "stdout",
     "output_type": "stream",
     "text": [
      "['rofl' 'true' 'effect' 'effects' 'efficient' 'efreefone' 'egbon' 'egg'\n",
      " 'el' 'eggs' 'ego' 'eh' 'eh74rr' 'eighth' 'eightish' 'eire' 'ã€¨ud'\n",
      " 'elaborate' 'ela' 'elaborating' 'elaine' 'elama' 'elaya' 'eldest'\n",
      " 'election' 'elections' 'electricity' 'elephant' 'elliot' 'ello' 'elvis'\n",
      " 'em' 'eerulli' 'eerie' 'emailed' 'eckankar' 'easier' 'easiest' 'easily'\n",
      " 'east' 'eastenders' 'easter' 'easy' 'eat' 'eaten' 'eatin' 'eating' 'ebay'\n",
      " 'ec2a' 'echo' 'ecstacy' 'eek' 'ecstasy' 'ed' 'edge' 'edhae' 'edison'\n",
      " 'edition' 'edrunk' 'edu' 'education' 'educational' 'edukkukayee' 'edward'\n",
      " 'edwards' 'ee' 'email' 'embarassed' 'ears' 'embarassing' 'enjoying'\n",
      " 'enketa' 'enna' 'ennal' 'ente' 'enter' 'entered' 'enters' 'entertain'\n",
      " 'entertaining' 'entey' 'entire' 'entirely' 'entitled' 'entrepreneurs'\n",
      " 'entropication' 'entry' 'entry41' 'enufcredeit' 'enuff' 'envelope'\n",
      " 'environment' 'envy' 'epi' 'eppolum' 'epsilon' 'equally' 'er' 'ere'\n",
      " 'enjoyin']\n"
     ]
    }
   ],
   "source": [
    "%matplotlib inline \n",
    "wordcloud = WordCloud().generate( ' '.join( top_n )  )\n",
    "plt.imshow(wordcloud)\n",
    "plt.axis(\"off\")\n",
    "plt.show()\n",
    "print( top_n )"
   ]
  },
  {
   "cell_type": "markdown",
   "metadata": {},
   "source": [
    "### Towards Machine Learning\n",
    "# Classifier Pipeline\n",
    "* Shuffle and split the data into training and test set\n",
    "* Use the random forest classifier to train on using tfidf representations of vectors to predict the points bucket number\n",
    "* Test on the test set and measure accuracy"
   ]
  },
  {
   "cell_type": "code",
   "execution_count": 53,
   "metadata": {},
   "outputs": [
    {
     "name": "stderr",
     "output_type": "stream",
     "text": [
      "C:\\ProgramData\\Anaconda3\\lib\\site-packages\\ipykernel_launcher.py:4: DataConversionWarning: A column-vector y was passed when a 1d array was expected. Please change the shape of y to (n_samples,), for example using ravel().\n",
      "  after removing the cwd from sys.path.\n"
     ]
    },
    {
     "data": {
      "text/plain": [
       "RandomForestClassifier(bootstrap=True, class_weight=None, criterion='gini',\n",
       "            max_depth=None, max_features='auto', max_leaf_nodes=None,\n",
       "            min_impurity_decrease=0.0, min_impurity_split=None,\n",
       "            min_samples_leaf=1, min_samples_split=2,\n",
       "            min_weight_fraction_leaf=0.0, n_estimators=10, n_jobs=1,\n",
       "            oob_score=False, random_state=None, verbose=0,\n",
       "            warm_start=False)"
      ]
     },
     "execution_count": 53,
     "metadata": {},
     "output_type": "execute_result"
    }
   ],
   "source": [
    "y = data[['Spam Value']]\n",
    "X_train, X_test, y_train, y_test = train_test_split(X, y, test_size=0.3, random_state=101) #X_tfidf, X_cat, X\n",
    "clf = RandomForestClassifier()\n",
    "clf.fit(X_train, y_train)"
   ]
  },
  {
   "cell_type": "code",
   "execution_count": 54,
   "metadata": {},
   "outputs": [
    {
     "data": {
      "text/plain": [
       "0.9612403100775194"
      ]
     },
     "execution_count": 54,
     "metadata": {},
     "output_type": "execute_result"
    }
   ],
   "source": [
    "predictions = clf.predict(X_test)\n",
    "accuracy_score( predictions, y_test )"
   ]
  },
  {
   "cell_type": "markdown",
   "metadata": {},
   "source": [
    "# Thus, we see did very well on the test set with a 96.12% accuracy !\n",
    "What does that even mean though ?"
   ]
  },
  {
   "cell_type": "code",
   "execution_count": 56,
   "metadata": {},
   "outputs": [
    {
     "name": "stdout",
     "output_type": "stream",
     "text": [
      "             precision    recall  f1-score   support\n",
      "\n",
      "       Spam       1.00      0.96      0.98      1384\n",
      "   Not Spam       0.74      0.98      0.84       164\n",
      "\n",
      "avg / total       0.97      0.96      0.96      1548\n",
      "\n"
     ]
    }
   ],
   "source": [
    "from sklearn.metrics import classification_report\n",
    "print(classification_report( predictions, y_test, target_names=['Spam', 'Not Spam']))"
   ]
  },
  {
   "cell_type": "code",
   "execution_count": null,
   "metadata": {
    "collapsed": true
   },
   "outputs": [],
   "source": []
  }
 ],
 "metadata": {
  "kernelspec": {
   "display_name": "Python 3",
   "language": "python",
   "name": "python3"
  },
  "language_info": {
   "codemirror_mode": {
    "name": "ipython",
    "version": 3
   },
   "file_extension": ".py",
   "mimetype": "text/x-python",
   "name": "python",
   "nbconvert_exporter": "python",
   "pygments_lexer": "ipython3",
   "version": "3.6.3"
  }
 },
 "nbformat": 4,
 "nbformat_minor": 2
}
